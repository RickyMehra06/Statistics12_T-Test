{
 "cells": [
  {
   "cell_type": "markdown",
   "id": "76f9a15f",
   "metadata": {},
   "source": [
    "### Statistics 12: T-Test\n",
    "    \n",
    "A pharmaceutical company develops a new drug and wants to compare its effectiveness against a standard drug for treating a particular condition. They conduct a study with two groups: Group A receives the new drug, and Group B receives the standard\n",
    "drug. The company measures the improvement in a specific symptom for both groups after a 4-week treatment period.\n",
    "\n",
    "a. The company collects data from 30 patients in each group and calculates the mean improvement score and the standard deviation of improvement for each group. The mean improvement score for Group A is 2.5 with a standard deviation of 0.8, while the mean improvement score for Group B is 2.2 with a standard deviation of 0.6. Conduct a t-test to determine if there is a significant\n",
    "difference in the mean improvement scores between the two groups. Use a significance level of 0.05.\n",
    "\n",
    "b. Based on the t-test results, state whether the null hypothesis should be rejected or not. Provide a conclusion in the context of the study.\n"
   ]
  },
  {
   "cell_type": "markdown",
   "id": "bc485bc3",
   "metadata": {},
   "source": [
    "### 12(a): To Calculate the t-statistic and p-value using given data and the t-test formula:"
   ]
  },
  {
   "cell_type": "code",
   "execution_count": 4,
   "id": "297a7b53",
   "metadata": {},
   "outputs": [
    {
     "name": "stdout",
     "output_type": "stream",
     "text": [
      "t-statistic: 1.6431676725154976\n",
      "p-value: 0.10575916705583671\n"
     ]
    }
   ],
   "source": [
    "import scipy.stats as stats\n",
    "\n",
    "mean_A = 2.5\n",
    "std_A = 0.8\n",
    "n_A = 30\n",
    "\n",
    "mean_B = 2.2\n",
    "std_B = 0.6\n",
    "n_B = 30\n",
    "\n",
    "# To calculate the t-statistic and p-value\n",
    "t_statistic, p_value = stats.ttest_ind_from_stats(mean_A, std_A, n_A, mean_B, std_B, n_B)\n",
    "\n",
    "print(\"t-statistic:\", t_statistic)\n",
    "print(\"p-value:\", p_value)"
   ]
  },
  {
   "cell_type": "markdown",
   "id": "b6e0c34b",
   "metadata": {},
   "source": [
    "### 12(b):\n",
    "\n",
    "Based on the obtained p-value, we can determine whether to reject the null hypothesis or not. The null hypothesis (H0) in this case would be that there is no significant difference in the mean improvement scores between the two groups. If the p-value is less than the significance level (0.05 in this case), we can reject the null hypothesis and conclude that there is a significant difference between the mean improvement scores of the two groups."
   ]
  },
  {
   "cell_type": "code",
   "execution_count": 5,
   "id": "291cbb79",
   "metadata": {},
   "outputs": [
    {
     "name": "stdout",
     "output_type": "stream",
     "text": [
      "t-statistic: 1.6431676725154976\n",
      "p-value: 0.10575916705583671\n",
      "Null hypothesis is not rejected.\n",
      "There is no significant difference in the mean improvement scores between Group A and Group B.\n"
     ]
    }
   ],
   "source": [
    "mean_A = 2.5\n",
    "std_A = 0.8\n",
    "n_A = 30\n",
    "\n",
    "mean_B = 2.2\n",
    "std_B = 0.6\n",
    "n_B = 30\n",
    "\n",
    "# To calculate the t-statistic and p-value\n",
    "t_statistic, p_value = stats.ttest_ind_from_stats(mean_A, std_A, n_A, mean_B, std_B, n_B)\n",
    "\n",
    "print(\"t-statistic:\", t_statistic)\n",
    "print(\"p-value:\", p_value)\n",
    "\n",
    "alpha = 0.05\n",
    "\n",
    "if p_value < alpha:\n",
    "    print(\"Null hypothesis is rejected.\")\n",
    "    print(\"There is a significant difference in the mean improvement scores between Group A and Group B.\")\n",
    "else:\n",
    "    print(\"Null hypothesis is not rejected.\")\n",
    "    print(\"There is no significant difference in the mean improvement scores between Group A and Group B.\")\n"
   ]
  }
 ],
 "metadata": {
  "kernelspec": {
   "display_name": "Python 3 (ipykernel)",
   "language": "python",
   "name": "python3"
  },
  "language_info": {
   "codemirror_mode": {
    "name": "ipython",
    "version": 3
   },
   "file_extension": ".py",
   "mimetype": "text/x-python",
   "name": "python",
   "nbconvert_exporter": "python",
   "pygments_lexer": "ipython3",
   "version": "3.9.13"
  }
 },
 "nbformat": 4,
 "nbformat_minor": 5
}
